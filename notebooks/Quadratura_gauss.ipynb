{
  "nbformat": 4,
  "nbformat_minor": 0,
  "metadata": {
    "colab": {
      "name": "Quadratura_gauss.ipynb",
      "provenance": [],
      "authorship_tag": "ABX9TyNvYjipxTvLAMbmzU70nxUq",
      "include_colab_link": true
    },
    "kernelspec": {
      "name": "python3",
      "display_name": "Python 3"
    },
    "language_info": {
      "name": "python"
    }
  },
  "cells": [
    {
      "cell_type": "markdown",
      "metadata": {
        "id": "view-in-github",
        "colab_type": "text"
      },
      "source": [
        "<a href=\"https://colab.research.google.com/github/HenriqueCCdA/ElementosFinitosCurso/blob/main/notebooks/Quadratura_gauss.ipynb\" target=\"_parent\"><img src=\"https://colab.research.google.com/assets/colab-badge.svg\" alt=\"Open In Colab\"/></a>"
      ]
    },
    {
      "cell_type": "code",
      "metadata": {
        "id": "R9ugiKFYGBVp"
      },
      "source": [
        "import numpy as np"
      ],
      "execution_count": null,
      "outputs": []
    },
    {
      "cell_type": "markdown",
      "metadata": {
        "id": "eoqV3lcbNLCL"
      },
      "source": [
        "Pontos da quadratura gaussiana"
      ]
    },
    {
      "cell_type": "code",
      "metadata": {
        "id": "1EyjOUL0NLiJ"
      },
      "source": [
        "# um ponto\n",
        "kxi1   = np.array([0.0]) \n",
        "alpha1 = np.array([2.0])\n",
        "# 2 pontos\n",
        "kxi2   = np.array([-0.577350269189626e0, 0.577350269189626e0]) \n",
        "alpha2 = np.array([1.0, 1.0])\n",
        "# 3 pontos\n",
        "kxi3   = np.array([-0.774596669241483e0, 0.0e0              , 0.774596669241483e0]) \n",
        "alpha3 = np.array([ 0.555555555555556e0, 0.888888888888889e0, 0.555555555555556e0])\n",
        "# 4 pontos\n",
        "kxi4   = np.array([-0.861136311594053e0, -0.339981043584856e0, 0.339981043584856e0, 0.861136311594053e0]) \n",
        "alpha4 = np.array([ 0.347854845137454e0,  0.652145154862546e0, 0.652145154862546e0, 0.347854845137454e0])\n",
        "# 5 pontos\n",
        "kxi5   = np.array([-0.906179845938664e0, -0.538469310105683e0, 0.0e0                , 0.538469310105683e0, 0.906179845938664e0]) \n",
        "alpha5 = np.array([ 0.236926885056189e0,  0.478628670499366e0, 0.568888888888889e0, 0.478628670499366e0, 0.236926885056189e0])\n",
        "\n",
        "\n",
        "ksis   = [kxi1, kxi2, kxi3, kxi4, kxi5]\n",
        "alphas = [alpha1, alpha2, alpha3, alpha4, alpha5]"
      ],
      "execution_count": null,
      "outputs": []
    },
    {
      "cell_type": "markdown",
      "metadata": {
        "id": "YLnUAJtjGf52"
      },
      "source": [
        " Função que se quer integrar"
      ]
    },
    {
      "cell_type": "code",
      "metadata": {
        "id": "XE-5W-JFJ5Fj"
      },
      "source": [
        "def f1(e):\n",
        "  return e**2 - 64*e + 1\n",
        "\n",
        "def f2(n, e):\n",
        "  return (e**2 + 1)*(n+1)"
      ],
      "execution_count": null,
      "outputs": []
    },
    {
      "cell_type": "markdown",
      "metadata": {
        "id": "WKn2WIDMNZox"
      },
      "source": [
        "Quadratura gaussina para o intervalor [-1, 1]"
      ]
    },
    {
      "cell_type": "code",
      "metadata": {
        "id": "A3klBMdMKanv"
      },
      "source": [
        "def quadratura_gauss(func, n_pontos=5):\n",
        "  '''\n",
        "  ----------------------------------------------------------------\n",
        "  Quadratura gaussiana no intervalor [-1, 1]\n",
        "  ----------------------------------------------------------------\n",
        "  func     - funcao que se quer calcular a integral\n",
        "  n_pontos - numero de pontos de gaus\n",
        "  ----------------------------------------------------------------\n",
        "  Retorna o valor da integral\n",
        "  ----------------------------------------------------------------\n",
        "  '''\n",
        "  pontos = ksis[n_pontos-1]\n",
        "  pesos  = alphas[n_pontos-1]\n",
        "\n",
        "  tmp = 0.0e0\n",
        "  for ksi, alpha in zip(pontos, pesos):\n",
        "    tmp += func(ksi)*alpha\n",
        "\n",
        "  return tmp\n",
        "\n",
        "\n",
        "def quadratura_gauss_dupla(func, n_pontos=5):\n",
        "  '''\n",
        "  ----------------------------------------------------------------\n",
        "  Quadratura gaussiana dupla no intervalor [-1, 1]\n",
        "  ----------------------------------------------------------------\n",
        "  func     - funcao que se quer calcular a integral\n",
        "  n_pontos - numero de pontos de gaus\n",
        "  ----------------------------------------------------------------\n",
        "  Retorna o valor da integral\n",
        "  ----------------------------------------------------------------\n",
        "  '''\n",
        "  pontos = ksis[n_pontos-1]\n",
        "  pesos  = alphas[n_pontos-1]\n",
        "\n",
        "  tmp = 0.0e0\n",
        "  for ksi, alpha_ksi in zip(pontos, pesos):\n",
        "    for neta, alpha_neta in zip(pontos, pesos):\n",
        "      tmp += func(ksi, neta)*alpha_ksi*alpha_neta\n",
        "\n",
        "  return tmp "
      ],
      "execution_count": null,
      "outputs": []
    },
    {
      "cell_type": "markdown",
      "metadata": {
        "id": "HevtnN9NNhIY"
      },
      "source": [
        "Integral simples:\n",
        "\n",
        "\\begin{equation}\n",
        "valor = \\int_{-1}^{1} f(\\xi) d\\xi\n",
        "\\end{equation}\n",
        "\n",
        "\n",
        "Calculo da integral para os pontos de 1 a 5"
      ]
    },
    {
      "cell_type": "code",
      "metadata": {
        "colab": {
          "base_uri": "https://localhost:8080/"
        },
        "id": "YOYcGmQFGgZE",
        "outputId": "16da3c0e-3807-4556-d8a7-03439cdaa99f"
      },
      "source": [
        "for n in [1,2,3,4,5]:\n",
        "  valor = quadratura_gaus(f1, n)\n",
        "  print(f'O valor da integral para {n} de integração é = {valor:.14e}')"
      ],
      "execution_count": null,
      "outputs": [
        {
          "output_type": "stream",
          "text": [
            "O valor da integral para 1 de integração é = 2.00000000000000e+00\n",
            "O valor da integral para 2 de integração é = 2.66666666666667e+00\n",
            "O valor da integral para 3 de integração é = 2.66666666666667e+00\n",
            "O valor da integral para 4 de integração é = 2.66666666666667e+00\n",
            "O valor da integral para 5 de integração é = 2.66666666666667e+00\n"
          ],
          "name": "stdout"
        }
      ]
    },
    {
      "cell_type": "markdown",
      "metadata": {
        "id": "PlN73eFCOtr3"
      },
      "source": [
        "Integral dupla:\n",
        "\n",
        "\\begin{equation}\n",
        "valor = \\int_{-1}^{1} \\int_{-1}^{1} f(\\eta, \\xi) d\\eta d\\xi\n",
        "\\end{equation}\n",
        "\n",
        "\n",
        "Calculo da integral para os pontos de 1 a 5"
      ]
    },
    {
      "cell_type": "code",
      "metadata": {
        "colab": {
          "base_uri": "https://localhost:8080/"
        },
        "id": "vgerKhAPK6AK",
        "outputId": "9f0bc8e4-876d-4ac3-a1c9-d60fa69042fa"
      },
      "source": [
        "for n in [1,2,3,4,5]:\n",
        "  valor = quadratura_gauss_dupla(f2, n)\n",
        "  print(f'O valor da integral para {n} de integração é = {valor:.14e}')"
      ],
      "execution_count": null,
      "outputs": [
        {
          "output_type": "stream",
          "text": [
            "O valor da integral para 1 de integração é = 4.00000000000000e+00\n",
            "O valor da integral para 2 de integração é = 5.33333333333333e+00\n",
            "O valor da integral para 3 de integração é = 5.33333333333334e+00\n",
            "O valor da integral para 4 de integração é = 5.33333333333333e+00\n",
            "O valor da integral para 5 de integração é = 5.33333333333333e+00\n"
          ],
          "name": "stdout"
        }
      ]
    },
    {
      "cell_type": "markdown",
      "metadata": {
        "id": "xzWPnvWVtNnX"
      },
      "source": [
        "foo <font color='red'>bar</font> foo\n",
        "\n",
        "$\\color{red}{\\text{Texto Vermelho}}$\n",
        "\n",
        "$\\color{blue}{\\text{Texto Azul}}$"
      ]
    },
    {
      "cell_type": "code",
      "metadata": {
        "id": "BkYkAaJFv7Wp"
      },
      "source": [
        ""
      ],
      "execution_count": null,
      "outputs": []
    }
  ]
}