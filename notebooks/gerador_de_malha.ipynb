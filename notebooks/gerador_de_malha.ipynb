{
  "nbformat": 4,
  "nbformat_minor": 0,
  "metadata": {
    "colab": {
      "name": "gerador_de_malha.ipynb",
      "provenance": [],
      "collapsed_sections": [],
      "authorship_tag": "ABX9TyNbtZvt3DexvZ6D/vhiw1Ck",
      "include_colab_link": true
    },
    "kernelspec": {
      "name": "python3",
      "display_name": "Python 3"
    },
    "language_info": {
      "name": "python"
    }
  },
  "cells": [
    {
      "cell_type": "markdown",
      "metadata": {
        "id": "view-in-github",
        "colab_type": "text"
      },
      "source": [
        "<a href=\"https://colab.research.google.com/github/HenriqueCCdA/ElementosFinitosCurso/blob/main/notebooks/gerador_de_malha.ipynb\" target=\"_parent\"><img src=\"https://colab.research.google.com/assets/colab-badge.svg\" alt=\"Open In Colab\"/></a>"
      ]
    },
    {
      "cell_type": "code",
      "metadata": {
        "id": "doMDFwOsmnx8"
      },
      "source": [
        "import numpy as np"
      ],
      "execution_count": 1,
      "outputs": []
    },
    {
      "cell_type": "code",
      "metadata": {
        "colab": {
          "base_uri": "https://localhost:8080/"
        },
        "id": "ePbBNoyVMH5q",
        "outputId": "78f42f59-5816-41e6-90c1-b90f3f96d693"
      },
      "source": [
        "!wget  https://raw.githubusercontent.com/HenriqueCCdA/ElementosFinitosCurso/main/src/gerador_malha.py -O 'gerador_malha.py'"
      ],
      "execution_count": 2,
      "outputs": [
        {
          "output_type": "stream",
          "text": [
            "--2021-08-15 05:33:08--  https://raw.githubusercontent.com/HenriqueCCdA/ElementosFinitosCurso/main/src/gerador_malha.py\n",
            "Resolving raw.githubusercontent.com (raw.githubusercontent.com)... 185.199.110.133, 185.199.111.133, 185.199.109.133, ...\n",
            "Connecting to raw.githubusercontent.com (raw.githubusercontent.com)|185.199.110.133|:443... connected.\n",
            "HTTP request sent, awaiting response... 200 OK\n",
            "Length: 8955 (8.7K) [text/plain]\n",
            "Saving to: ‘gerador_malha.py’\n",
            "\n",
            "\rgerador_malha.py      0%[                    ]       0  --.-KB/s               \rgerador_malha.py    100%[===================>]   8.75K  --.-KB/s    in 0s      \n",
            "\n",
            "2021-08-15 05:33:08 (70.7 MB/s) - ‘gerador_malha.py’ saved [8955/8955]\n",
            "\n"
          ],
          "name": "stdout"
        }
      ]
    },
    {
      "cell_type": "code",
      "metadata": {
        "id": "WuaF_7IMMdiv"
      },
      "source": [
        "import gerador_malha as gm"
      ],
      "execution_count": 3,
      "outputs": []
    },
    {
      "cell_type": "code",
      "metadata": {
        "colab": {
          "base_uri": "https://localhost:8080/"
        },
        "id": "WpcOvcXIZJW4",
        "outputId": "48e05a36-4d2e-4a60-8671-71b37091a453"
      },
      "source": [
        "arquivo_saida = 'malha4x3'\n",
        "\n",
        "n_div_x = 4\n",
        "n_div_y = 3\n",
        "\n",
        "n_nos_x = n_div_x + 1\n",
        "n_nos_y = n_div_y + 1\n",
        "\n",
        "numero_de_nos = n_nos_x * n_nos_y\n",
        "numero_de_el = n_div_x * n_div_y \n",
        "\n",
        "L_x = 1.0\n",
        "L_y = 1.0\n",
        "\n",
        "dx = L_x / n_div_x\n",
        "dy = L_y / n_div_y\n",
        "\n",
        "print(f'Numero de nos = {numero_de_nos}')\n",
        "print(f'numero de elemetos = {numero_de_el}')\n",
        "print(f'dx = {dx} dy = {dy}')"
      ],
      "execution_count": 4,
      "outputs": [
        {
          "output_type": "stream",
          "text": [
            "Numero de nos = 20\n",
            "numero de elemetos = 12\n",
            "dx = 0.25 dy = 0.3333333333333333\n"
          ],
          "name": "stdout"
        }
      ]
    },
    {
      "cell_type": "code",
      "metadata": {
        "id": "gNd5fIv2ZUod"
      },
      "source": [
        "x = gm.gerando_coordenadas(numero_de_nos , n_nos_y , n_nos_x, L_x, L_y, dy, dx)\n",
        "el = gm.gera_as_conectividade(numero_de_el, n_div_y, n_div_x)\n",
        "nos_de_baixo, nos_de_cima, nos_da_esquerda, nos_da_direita = gm.obtem_os_nos_do_contorno(n_nos_y, n_nos_x)"
      ],
      "execution_count": 5,
      "outputs": []
    },
    {
      "cell_type": "markdown",
      "metadata": {
        "id": "R4wMb7i5xjes"
      },
      "source": [
        "# Escrendo a malha em um arquivo .txt"
      ]
    },
    {
      "cell_type": "code",
      "metadata": {
        "id": "4AiWI3_AfqQJ"
      },
      "source": [
        "gm.escreve_arquivo_txt(arquivo_saida, numero_de_nos, numero_de_el, x, el)"
      ],
      "execution_count": 6,
      "outputs": []
    },
    {
      "cell_type": "markdown",
      "metadata": {
        "id": "bzdElsoZxv9C"
      },
      "source": [
        "# Escrendo a malha em um arquivo .vtk"
      ]
    },
    {
      "cell_type": "code",
      "metadata": {
        "id": "6VLQHdMiuMcq"
      },
      "source": [
        "gm.escreve_arquivo_vtk(arquivo_saida  , numero_de_nos, numero_de_el,\n",
        "                    x              , el, \n",
        "                    nos_de_baixo   , nos_de_cima, \n",
        "                    nos_da_esquerda, nos_da_direita)\n",
        "  "
      ],
      "execution_count": 7,
      "outputs": []
    },
    {
      "cell_type": "code",
      "metadata": {
        "id": "cFSaxAPANqjQ"
      },
      "source": [
        ""
      ],
      "execution_count": 7,
      "outputs": []
    }
  ]
}