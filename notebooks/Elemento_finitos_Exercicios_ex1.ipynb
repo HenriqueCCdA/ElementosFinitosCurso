{
  "nbformat": 4,
  "nbformat_minor": 0,
  "metadata": {
    "colab": {
      "name": "Elemento_finitos_Exercicios_ex1.ipynb",
      "provenance": [],
      "include_colab_link": true
    },
    "kernelspec": {
      "name": "python3",
      "display_name": "Python 3"
    },
    "language_info": {
      "name": "python"
    }
  },
  "cells": [
    {
      "cell_type": "markdown",
      "metadata": {
        "id": "view-in-github",
        "colab_type": "text"
      },
      "source": [
        "<a href=\"https://colab.research.google.com/github/HenriqueCCdA/ElementosFinitosCurso/blob/main/notebooks/Elemento_finitos_Exercicios_ex1.ipynb\" target=\"_parent\"><img src=\"https://colab.research.google.com/assets/colab-badge.svg\" alt=\"Open In Colab\"/></a>"
      ]
    },
    {
      "cell_type": "code",
      "metadata": {
        "id": "ccSP9ejpOgm5"
      },
      "source": [
        "import numpy as np\n",
        "from scipy.linalg import lu_factor, lu_solve\n",
        "import matplotlib.pyplot as plt\n",
        "import matplotlib as mpl"
      ],
      "execution_count": null,
      "outputs": []
    },
    {
      "cell_type": "markdown",
      "metadata": {
        "id": "1X0wvV5nos5P"
      },
      "source": [
        "# Paramentros de entrada"
      ]
    },
    {
      "cell_type": "code",
      "metadata": {
        "id": "ftorWfJfP85k"
      },
      "source": [
        "f      =  -2\n",
        "dudx_0 =  -2\n",
        "u3     =  0.0"
      ],
      "execution_count": null,
      "outputs": []
    },
    {
      "cell_type": "markdown",
      "metadata": {
        "id": "yE9UpnI8YcFS"
      },
      "source": [
        "![Capture.PNG](data:image/png;base64,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)"
      ]
    },
    {
      "cell_type": "markdown",
      "metadata": {
        "id": "BF4VJMFfOhWh"
      },
      "source": [
        "## No 1\n",
        "\n",
        "\\begin{equation}\n",
        "k_{11} = \\int_0^1 \\frac{dN_1}{dx} \\frac{dN_1}{dx} dx =  \\int_0^{1/2} \\frac{dN_1}{dx} \\frac{dN_1}{dx} dx =  \\int_0^{1/2} (-2) (-2) dx = (-2) (=2) \\left(\\frac{1}{2} - 0 \\right) = 2 \n",
        "\\end{equation}\n",
        "\n",
        "\\begin{equation}\n",
        "k_{12} = \\int_0^1 \\frac{dN_1}{dx} \\frac{dN_2}{dx} dx =  \\int_0^{1/2} \\frac{dN_1}{dx} \\frac{dN_2}{dx} dx =  \\int_0^{1/2} (-2) (2) dx = (-2) (2) \\left(\\frac{1}{2} - 0 \\right) = -2 \n",
        "\\end{equation}\n",
        "\n",
        "\\begin{equation}\n",
        "k_{13} = \\int_0^1 \\frac{dN_1}{dx} \\frac{dN_3}{dx} dx = 0\n",
        "\\end{equation}\n",
        "\n",
        "\\begin{equation}\n",
        "f_{1} = \\int_0^1 f N_1dx + \\frac{du}{dx}(1) N_1(1) - \\frac{du}{dx}(0) N_1(0) =  \\frac{f}{4} - \\frac{du}{dx}(0)\n",
        "\\end{equation}\n"
      ]
    },
    {
      "cell_type": "code",
      "metadata": {
        "id": "iGfSq2iyOjGG"
      },
      "source": [
        "k11 =  2.0\n",
        "k12 = -2.0\n",
        "k13 =  0.0\n",
        "f1 = f/4 - dudx_0"
      ],
      "execution_count": null,
      "outputs": []
    },
    {
      "cell_type": "markdown",
      "metadata": {
        "id": "bBmhc04hOrHY"
      },
      "source": [
        "## No 2\n",
        "\n",
        "\\begin{equation}\n",
        "k_{21} = \\int_0^1 \\frac{dN_2}{dx} \\frac{dN_1}{dx} dx = 2 \n",
        "\\end{equation}\n",
        "\n",
        "\\begin{equation}\n",
        "k_{22} = \\int_0^1 \\frac{dN_2}{dx} \\frac{dN_2}{dx} dx =  \\int_0^{1/2} \\frac{dN_2}{dx} \\frac{dN_2}{dx} dx +  \\int_{1/2}^{1} \\frac{dN_2}{dx} \\frac{dN_2}{dx} dx =  \\int_0^{1/2} (2) (2) dx + \\int_{1/2}^{1} (-2) (-2) dx = 2 + 2 = 4 \n",
        "\\end{equation}\n",
        "\n",
        "\\begin{equation}\n",
        "k_{23} = \\int_0^1 \\frac{dN_2}{dx} \\frac{dN_3}{dx} dx = \\int_{1/2}^1 \\frac{dN_2}{dx} \\frac{dN_3}{dx} dx = \\int_{1/2}^1 (2) (-2) dx = -2\n",
        "\\end{equation}\n",
        "\n",
        "\\begin{equation}\n",
        "f_{2} = \\int_0^1 f N_2dx + \\frac{du}{dx}(1) N_2(1) - \\frac{du}{dx}(0) N_2(0) =  \\frac{f}{2}\n",
        "\\end{equation}\n"
      ]
    },
    {
      "cell_type": "code",
      "metadata": {
        "id": "Y7q3cIvpOojV"
      },
      "source": [
        "k21 = k12\n",
        "k22 = 4.0\n",
        "k23 = -2.0\n",
        "f2 = f/2"
      ],
      "execution_count": null,
      "outputs": []
    },
    {
      "cell_type": "markdown",
      "metadata": {
        "id": "82ppp5c9hWqJ"
      },
      "source": [
        "# Sistema de equações\n",
        "\n",
        "\\begin{equation}\n",
        "\\begin{bmatrix}\n",
        " k_{11} & k_{12}\\\\ \n",
        " k_{21} & k_{22}\n",
        "\\end{bmatrix}\n",
        "*\n",
        "\\begin{bmatrix}\n",
        "u_1\\\\\n",
        "u_2\n",
        "\\end{bmatrix}\n",
        "= \n",
        "\\begin{bmatrix}\n",
        "f_1 - k_{13} * u_3\\\\\n",
        "f_2 - k_{23} * u_3\n",
        "\\end{bmatrix}\n",
        "\\end{equation}\n",
        "\n"
      ]
    },
    {
      "cell_type": "markdown",
      "metadata": {
        "id": "3yTLE-K8Q7_P"
      },
      "source": [
        "## Matriz de Coeficiente Real"
      ]
    },
    {
      "cell_type": "code",
      "metadata": {
        "colab": {
          "base_uri": "https://localhost:8080/"
        },
        "id": "0wGsBXIVQ9UX",
        "outputId": "9b72c1df-76cf-4786-e1f8-110a210a6bf1"
      },
      "source": [
        "K = np.array([\n",
        "             [k11, k12],\n",
        "             [k21, k22],            \n",
        "            ])\n",
        "\n",
        "K"
      ],
      "execution_count": null,
      "outputs": [
        {
          "output_type": "execute_result",
          "data": {
            "text/plain": [
              "array([[ 2., -2.],\n",
              "       [-2.,  4.]])"
            ]
          },
          "metadata": {
            "tags": []
          },
          "execution_count": 21
        }
      ]
    },
    {
      "cell_type": "markdown",
      "metadata": {
        "id": "SlEP1AwLhDtH"
      },
      "source": [
        "## Vetor de forças"
      ]
    },
    {
      "cell_type": "code",
      "metadata": {
        "colab": {
          "base_uri": "https://localhost:8080/"
        },
        "id": "Elu1WcbJRESI",
        "outputId": "ad3ed0e5-4f78-4b62-b5c2-7d347df4e30b"
      },
      "source": [
        "F = np.array([\n",
        "              f1 - k13 * u3,\n",
        "              f2 - k23 * u3\n",
        "            ])\n",
        "\n",
        "F"
      ],
      "execution_count": null,
      "outputs": [
        {
          "output_type": "execute_result",
          "data": {
            "text/plain": [
              "array([ 1.5, -1. ])"
            ]
          },
          "metadata": {
            "tags": []
          },
          "execution_count": 22
        }
      ]
    },
    {
      "cell_type": "markdown",
      "metadata": {
        "id": "XeoPly9OhJTK"
      },
      "source": [
        ""
      ]
    },
    {
      "cell_type": "code",
      "metadata": {
        "id": "2ACiogu7SE4D"
      },
      "source": [
        "lu, piv = lu_factor(K)\n",
        "u1, u2 = lu_solve((lu, piv), F)"
      ],
      "execution_count": null,
      "outputs": []
    },
    {
      "cell_type": "code",
      "metadata": {
        "colab": {
          "base_uri": "https://localhost:8080/"
        },
        "id": "x9OaQ5zUT6kf",
        "outputId": "5917a0c8-0ac8-4f5c-d9c2-122748fc83a5"
      },
      "source": [
        "u_numerico_coef = [ u1, u2, u3]   \n",
        "u_numerico_coef"
      ],
      "execution_count": null,
      "outputs": [
        {
          "output_type": "execute_result",
          "data": {
            "text/plain": [
              "[1.0, 0.25, 0.0]"
            ]
          },
          "metadata": {
            "tags": []
          },
          "execution_count": 24
        }
      ]
    },
    {
      "cell_type": "code",
      "metadata": {
        "colab": {
          "base_uri": "https://localhost:8080/"
        },
        "id": "cIXABM1BUg8_",
        "outputId": "5e257b79-775a-4cd6-cd42-8416b91929d8"
      },
      "source": [
        "x_malha = [0, 0.5, 1.0]\n",
        "x_malha"
      ],
      "execution_count": null,
      "outputs": [
        {
          "output_type": "execute_result",
          "data": {
            "text/plain": [
              "[0, 0.5, 1.0]"
            ]
          },
          "metadata": {
            "tags": []
          },
          "execution_count": 25
        }
      ]
    },
    {
      "cell_type": "markdown",
      "metadata": {
        "id": "WCINPSoZgdBE"
      },
      "source": [
        "# Solução Exata\n",
        "\n",
        "Solução\n",
        "$$\n",
        "u(x) = x ^ 2 - 2 x + 1\n",
        "$$\n",
        "\n",
        "Derivada da solução\n",
        "\n",
        "$$\n",
        "\\frac{du}{dx} = 2 x - 2 \n",
        "$$"
      ]
    },
    {
      "cell_type": "code",
      "metadata": {
        "id": "qmge9f6qSWCE"
      },
      "source": [
        "def u_analitico(x):\n",
        "  return x**2 - 2.0 * x + 1.0\n",
        "\n",
        "def dudx_analitico(x):\n",
        "  return 2.0 * x - 2.0  "
      ],
      "execution_count": null,
      "outputs": []
    },
    {
      "cell_type": "markdown",
      "metadata": {
        "id": "PKcpQsm9cuEs"
      },
      "source": [
        "# Solução númerica \n",
        "\n",
        "Aproximação\n",
        "\n",
        "$$u(x) = N_1(x) u_1 + N_2(x) u_2 + N_3(x) u_3$$\n",
        "\n",
        "**Funções de interpolação:**\n",
        "\n",
        "* $N_1$:\n",
        "\n",
        "$$\n",
        "N_1(x) = \\begin{cases}\n",
        "                      &1 * -2 x     &\\text{ se } & 0 < x < 1/2 \\\\ \n",
        "                      &0            &\\text{ se } & 1/2 < x < 1 \n",
        "          \\end{cases}                    \n",
        "$$\n",
        "\n",
        "* $N_2$:\n",
        "\n",
        "$$\n",
        "N_2(x) = \\begin{cases}\n",
        "                      &2 x     &\\text{ se } & 0 < x < 1/2 \\\\ \n",
        "                      &2 - 2 x &\\text{ se } & 1/2 < x < 1 \n",
        "          \\end{cases}\n",
        "$$\n",
        "\n",
        "* $N_3$:\n",
        "\n",
        "$$\n",
        "N_3(x) = \\begin{cases}\n",
        "                      &0             &\\text{ se } & 0 < x < 1/2 \\\\ \n",
        "                      &2 x - 1     &\\text{ se } & 1/2 < x < 1 \n",
        "          \\end{cases}                    \n",
        "$$\n",
        "\n"
      ]
    },
    {
      "cell_type": "code",
      "metadata": {
        "id": "le646rTbWl45"
      },
      "source": [
        "def u_numerico(x, u_numerico_coef, x_malha):\n",
        "\n",
        "  u1, u2, u3 = u_numerico_coef\n",
        "\n",
        "  x1, x2, x3 = x_malha\n",
        "  \n",
        "  # 0 < x < 1/2\n",
        "  if x1 <= x < x2:\n",
        "    N1 = 1.0 - 2.0 * x\n",
        "    N2 = 2.0 * x\n",
        "    N3 = 0.0\n",
        "\n",
        "    # 1/2 < x < 1\n",
        "  elif x2 <= x <= x3:\n",
        "    N1 = 0.0\n",
        "    N2 = 2.0 * ( 1.0 - x)\n",
        "    N3 = 2*x - 1.0\n",
        "\n",
        "\n",
        "  return N1*u1 + N2 * u2 + N3 *u3\n",
        "\n"
      ],
      "execution_count": null,
      "outputs": []
    },
    {
      "cell_type": "markdown",
      "metadata": {
        "id": "1eSsWTY7fmOy"
      },
      "source": [
        "**Solução númerica:** \n",
        "\n",
        "$$\n",
        "\\frac{du}{dx}(x) = \\frac{dN_1}{dx}(x) u_1 + \\frac{dN_2}{dx}(x) u_2 + \\frac{dN_3}{dx}(x) u_3\n",
        "$$\n",
        "\n",
        "**Funções de interpolação:**\n",
        "\n",
        "* $\\frac{dN_1}{dx}$:\n",
        "\n",
        "$$\n",
        "\\frac{dN_1}{dx} = \\begin{cases}\n",
        "                      &-2     &\\text{ se } & 0 < x < 1/2 \\\\ \n",
        "                      &0      &\\text{ se } & 1/2 < x < 1 \n",
        "          \\end{cases}                    \n",
        "$$\n",
        "\n",
        "* $N_2$:\n",
        "\n",
        "$$\n",
        "\\frac{dN_2}{dx} = \\begin{cases}\n",
        "                      & 2        &\\text{ se } & 0 < x < 1/2 \\\\ \n",
        "                      &-2        &\\text{ se } & 1/2 < x < 1 \n",
        "          \\end{cases}\n",
        "$$\n",
        "\n",
        "* $N_3$:\n",
        "\n",
        "$$\n",
        "\\frac{dN_3}{dx} = \\begin{cases}\n",
        "                      &0             &\\text{ se } & 0 < x < 1/2 \\\\ \n",
        "                      &2             &\\text{ se } & 1/2 < x < 1 \n",
        "          \\end{cases}                    \n",
        "$$\n"
      ]
    },
    {
      "cell_type": "code",
      "metadata": {
        "id": "meHh3DeWcqiA"
      },
      "source": [
        "def dudx_numerico(x, u_numerico_coef, x_malha):\n",
        "\n",
        "  u1, u2, u3 = u_numerico_coef\n",
        "\n",
        "  x1, x2, x3 = x_malha\n",
        "  \n",
        "  # 0 < x < 1/2\n",
        "  if x1 <= x < x2:\n",
        "    dN1dx = -2.0\n",
        "    dN2dx =  2.0\n",
        "    dN3dx =  0.0\n",
        "\n",
        "    # 1/2 < x < 1\n",
        "  elif x2 <= x <= x3:\n",
        "    dN1dx =  0.0\n",
        "    dN2dx = -2.0\n",
        "    dN3dx =  2.0\n",
        "\n",
        "\n",
        "  return dN1dx * u1 + dN2dx * u2 + dN3dx *u3"
      ],
      "execution_count": null,
      "outputs": []
    },
    {
      "cell_type": "markdown",
      "metadata": {
        "id": "8caUiHJTgXkh"
      },
      "source": [
        "# Plotando os resultados"
      ]
    },
    {
      "cell_type": "code",
      "metadata": {
        "id": "cVTWQeh5S4iE"
      },
      "source": [
        "x = np.linspace(0, 1, 50)"
      ],
      "execution_count": null,
      "outputs": []
    },
    {
      "cell_type": "code",
      "metadata": {
        "id": "6R66W8GDYPe2"
      },
      "source": [
        "u_exato = [ u_analitico(xi) for xi in x  ]\n",
        "dudx_exato = [ dudx_analitico(xi) for xi in x  ]"
      ],
      "execution_count": null,
      "outputs": []
    },
    {
      "cell_type": "code",
      "metadata": {
        "id": "-pp3L4X_YOyo"
      },
      "source": [
        "u_num = [ u_numerico(xi, u_numerico_coef, x_malha) for xi in x  ]\n",
        "dudx_num = [ dudx_numerico(xi, u_numerico_coef, x_malha) for xi in x  ]"
      ],
      "execution_count": null,
      "outputs": []
    },
    {
      "cell_type": "code",
      "metadata": {
        "colab": {
          "base_uri": "https://localhost:8080/",
          "height": 629
        },
        "id": "E-ZPIJxfTGgj",
        "outputId": "889aa1e7-b73d-4ff3-c2f4-e4f0dae5beee"
      },
      "source": [
        "mpl.rcParams['figure.figsize'] = (20, 10)\n",
        "#\n",
        "fig, (ax1, ax2) = plt.subplots(ncols = 2)\n",
        "#\n",
        "ax1.set_title('Solução', fontsize = 18)\n",
        "ax1.plot(x, u_exato, label = 'Analito')\n",
        "ax1.plot(x, u_num  , label = 'Numerico')\n",
        "ax1.set_ylabel('u(x)', fontsize = 14)\n",
        "ax1.set_xlabel('x', fontsize = 14)\n",
        "#\n",
        "ax2.set_title('Derivada', fontsize = 18)\n",
        "ax2.plot(x, dudx_exato)\n",
        "ax2.plot(x, dudx_num)\n",
        "ax2.set_ylabel(r'$\\frac{du}{dx}(x)$', fontsize = 14)\n",
        "ax2.set_xlabel('x', fontsize = 14)\n",
        "#\n",
        "ax1.grid(ls = '--')\n",
        "ax2.grid(ls = '--')\n",
        "#\n",
        "ax1.legend(fontsize=14)\n",
        "plt.show()"
      ],
      "execution_count": null,
      "outputs": [
        {
          "output_type": "display_data",
          "data": {
            "image/png": "[encoded data removed]",
            "text/plain": [
              "<Figure size 1440x720 with 2 Axes>"
            ]
          },
          "metadata": {
            "tags": [],
            "needs_background": "light"
          }
        }
      ]
    },
    {
      "cell_type": "code",
      "metadata": {
        "id": "2ivvldls7WCe"
      },
      "source": [
        ""
      ],
      "execution_count": null,
      "outputs": []
    }
  ]
}