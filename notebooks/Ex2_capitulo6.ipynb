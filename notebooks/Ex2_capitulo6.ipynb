{
  "nbformat": 4,
  "nbformat_minor": 0,
  "metadata": {
    "colab": {
      "name": "Ex2_capitulo6.ipynb",
      "provenance": [],
      "authorship_tag": "ABX9TyNRgNanbQlzLvxYhvSHwSZD",
      "include_colab_link": true
    },
    "kernelspec": {
      "name": "python3",
      "display_name": "Python 3"
    },
    "language_info": {
      "name": "python"
    }
  },
  "cells": [
    {
      "cell_type": "markdown",
      "metadata": {
        "id": "view-in-github",
        "colab_type": "text"
      },
      "source": [
        "<a href=\"https://colab.research.google.com/github/HenriqueCCdA/ElementosFinitosCurso/blob/main/notebooks/Ex2_capitulo6.ipynb\" target=\"_parent\"><img src=\"https://colab.research.google.com/assets/colab-badge.svg\" alt=\"Open In Colab\"/></a>"
      ]
    },
    {
      "cell_type": "markdown",
      "metadata": {
        "id": "KwFK0LBqhN2c"
      },
      "source": [
        "#1) Determinar as funções de interpolação dos elementos"
      ]
    },
    {
      "cell_type": "markdown",
      "metadata": {
        "id": "hgCVvuAfgCWz"
      },
      "source": [
        "## a)\n",
        "\n",
        "funções bilineares dos elementos lineares\n",
        "\n",
        "\\begin{equation}\n",
        "\\begin{split}\n",
        "&N_1(\\xi ,\\eta) = \\frac{1}{4}(1 + \\xi )(1 + \\eta)\\\\\n",
        "&N_2(\\xi ,\\eta) = \\frac{1}{4}(1 - \\xi )(1 + \\eta)\\\\\n",
        "&N_3(\\xi ,\\eta) = \\frac{1}{4}(1 - \\xi )(1 - \\eta)\\\\\n",
        "&N_4(\\xi ,\\eta) = \\frac{1}{4}(1 + \\xi )(1 - \\eta)\\\\\n",
        "\\end{split}\n",
        "\\end{equation}\n",
        "\n",
        "Quadratica no ponto do meio na direção $\\eta$\n",
        "\n",
        "\\begin{equation}\n",
        "\\begin{split}\n",
        "l^2_3(\\eta) = (1 + \\eta) (1 -\\eta)\n",
        "\\end{split}\n",
        "\\end{equation}\n",
        "\n",
        "\n",
        "Solução do problema\n",
        "\n",
        "\\begin{equation}\n",
        "\\begin{split}\n",
        "&N_1(\\xi ,\\eta) = N^{b}_1(\\xi ,\\eta) - \\frac{1}{2} N_5(\\xi ,\\eta)\\\\\n",
        "&N_2(\\xi ,\\eta) = N^{b}_2\\xi ,\\eta) = \\frac{1}{4}(1 - \\xi )(1 + \\eta)\\\\\n",
        "&N_3(\\xi ,\\eta) = N^{b}_3(\\xi ,\\eta) = \\frac{1}{4}(1 - \\xi )(1 - \\eta)\\\\\n",
        "&N_4(\\xi ,\\eta) = N^{b}_4(\\xi ,\\eta) - \\frac{1}{2} N_5(\\xi ,\\eta)\\\\\n",
        "&N_5(\\xi ,\\eta) = \\frac{1}{2}(1 + \\xi) l^2_3(\\eta) = \\frac{1}{2}(1 + \\xi)(1 + \\eta)(1 - \\eta)\n",
        "\\end{split}\n",
        "\\end{equation}\n",
        "\n",
        "\n"
      ]
    },
    {
      "cell_type": "markdown",
      "metadata": {
        "id": "Ya9TLuAVrYdx"
      },
      "source": [
        "![cap6_1_a.PNG](data:image/png;base64,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)\n",
        "\n",
        "![elemento_linear_quad.PNG](data:image/png;base64,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)"
      ]
    },
    {
      "cell_type": "code",
      "metadata": {
        "id": "2k6ugHjBgFm4"
      },
      "source": [
        "no1 = ( 1, 1)\n",
        "no2 = (-1, 1)\n",
        "no3 = (-1,-1)\n",
        "no4 = ( 1,-1)\n",
        "no5 = ( 1, 0)\n",
        "\n",
        "nos = (no1, no2, no3, no4, no5)"
      ],
      "execution_count": null,
      "outputs": []
    },
    {
      "cell_type": "code",
      "metadata": {
        "id": "c8l3hYBWzF8_"
      },
      "source": [
        "def N1b(no):\n",
        "  e, n = no\n",
        "  return (1/4)*(1+e)*(1+n) \n",
        "\n",
        "def N2b(no):\n",
        "  e, n = no\n",
        "  return (1/4)*(1-e)*(1+n) \n",
        "\n",
        "def N3b(no):\n",
        "  e, n = no\n",
        "  return (1/4)*(1-e)*(1-n) \n",
        "\n",
        "def N4b(no):\n",
        "  e, n = no\n",
        "  return (1/4)*(1+e)*(1-n)"
      ],
      "execution_count": null,
      "outputs": []
    },
    {
      "cell_type": "code",
      "metadata": {
        "id": "_ugq1hs8kvYB"
      },
      "source": [
        "def N5(no):\n",
        "  e, n = no\n",
        "  return (1/2)*(1+e)*(1-n)*(1+n)\n",
        "\n",
        "def N1(no):\n",
        "  e, n = no\n",
        "  return N1b(no) - (1/2)*N5(no)\n",
        "\n",
        "def N2(no):\n",
        "  return N2b(no)\n",
        "\n",
        "def N3(no):\n",
        "  return N3b(no)\n",
        "\n",
        "def N4(no):\n",
        "  return N4b(no) - (1/2)*N5(no)"
      ],
      "execution_count": null,
      "outputs": []
    },
    {
      "cell_type": "code",
      "metadata": {
        "colab": {
          "base_uri": "https://localhost:8080/"
        },
        "id": "Z3ii-JKll3z6",
        "outputId": "afda9826-ed10-4a36-a310-3a5b41bfd92e"
      },
      "source": [
        "# Checando o No1\n",
        "print(\"N1\")\n",
        "for i, no in enumerate(nos):\n",
        "  print(f\"no{i+1} -> N1 = {N1(no)}\")\n",
        "\n",
        "# Checando o No2\n",
        "print(\"\\nN2\")\n",
        "for i, no in enumerate(nos):\n",
        "  print(f\"no{i+1} -> N2 = {N2(no)}\")\n",
        "\n",
        "# Checando o No3\n",
        "print(\"\\nN3\")\n",
        "for i, no in enumerate(nos):\n",
        "  print(f\"no{i+1} -> N3 = {N3(no)}\")\n",
        "\n",
        "# Checando o No4\n",
        "print(\"\\nN4\")\n",
        "for i, no in enumerate(nos):\n",
        "  print(f\"no{i+1} -> N4 = {N4(no)}\")\n",
        "\n",
        "# Checando o No5\n",
        "print(\"\\nN5\")\n",
        "for i, no in enumerate(nos):\n",
        "  print(f\"no{i+1} -> N5 = {N5(no)}\")"
      ],
      "execution_count": null,
      "outputs": [
        {
          "output_type": "stream",
          "text": [
            "N1\n",
            "no1 -> N1 = 1.0\n",
            "no2 -> N1 = 0.0\n",
            "no3 -> N1 = 0.0\n",
            "no4 -> N1 = 0.0\n",
            "no5 -> N1 = 0.0\n",
            "\n",
            "N2\n",
            "no1 -> N2 = 0.0\n",
            "no2 -> N2 = 1.0\n",
            "no3 -> N2 = 0.0\n",
            "no4 -> N2 = 0.0\n",
            "no5 -> N2 = 0.0\n",
            "\n",
            "N3\n",
            "no1 -> N3 = 0.0\n",
            "no2 -> N3 = 0.0\n",
            "no3 -> N3 = 1.0\n",
            "no4 -> N3 = 0.0\n",
            "no5 -> N3 = 0.0\n",
            "\n",
            "N4\n",
            "no1 -> N4 = 0.0\n",
            "no2 -> N4 = 0.0\n",
            "no3 -> N4 = 0.0\n",
            "no4 -> N4 = 1.0\n",
            "no5 -> N4 = 0.0\n",
            "\n",
            "N5\n",
            "no1 -> N5 = 0.0\n",
            "no2 -> N5 = 0.0\n",
            "no3 -> N5 = 0.0\n",
            "no4 -> N5 = 0.0\n",
            "no5 -> N5 = 1.0\n"
          ],
          "name": "stdout"
        }
      ]
    },
    {
      "cell_type": "markdown",
      "metadata": {
        "id": "sFdKu_4WkuuV"
      },
      "source": [
        "## b)\n",
        "\n",
        "funções bilineares dos elementos lineares\n",
        "\n",
        "\\begin{equation}\n",
        "\\begin{split}\n",
        "&N_1(\\xi ,\\eta) = \\frac{1}{4}(1 + \\xi )(1 + \\eta)\\\\\n",
        "&N_2(\\xi ,\\eta) = \\frac{1}{4}(1 - \\xi )(1 + \\eta)\\\\\n",
        "&N_3(\\xi ,\\eta) = \\frac{1}{4}(1 - \\xi )(1 - \\eta)\\\\\n",
        "&N_4(\\xi ,\\eta) = \\frac{1}{4}(1 + \\xi )(1 - \\eta)\\\\\n",
        "\\end{split}\n",
        "\\end{equation}\n",
        "\n",
        "Quadratica no ponto 7 $\\eta$\n",
        "\n",
        "\\begin{equation}\n",
        "\\begin{split}\n",
        "l^2_3(\\eta) = (1 + \\eta) (1 -\\eta)\n",
        "\\end{split}\n",
        "\\end{equation}\n",
        "\n",
        "\n",
        "Cubico nos pontos 5, 6 na direção $\\xi$\n",
        "\n",
        "\\begin{equation}\n",
        "\\begin{split}\n",
        "l^3_3(\\xi) = \\frac{27}{16}(1 + \\xi) (\\xi - 1/3) (\\xi - 1)\\\\\n",
        "l^3_4(\\xi) = \\frac{27}{16}(1 - \\xi) (\\xi + 1/3) (\\xi + 1)\n",
        "\\end{split}\n",
        "\\end{equation}\n",
        "\n",
        "Solução do problema\n",
        "\n",
        "\\begin{equation}\n",
        "\\begin{split}\n",
        "&N_1(\\xi ,\\eta) = N^{b}_1(\\xi ,\\eta) - \\frac{1}{2} N_7(\\xi ,\\eta) -  \\frac{1}{3} N_6(\\xi ,\\eta) - \\frac{2}{3} N_5(\\xi ,\\eta)\\\\\n",
        "&N_2(\\xi ,\\eta) = N^{b}_2\\xi ,\\eta) -  \\frac{2}{3} N_6(\\xi ,\\eta) - \\frac{1}{3} N_5(\\xi ,\\eta)\\\\\n",
        "&N_3(\\xi ,\\eta) = N^{b}_3(\\xi ,\\eta) = \\frac{1}{4}(1 - \\xi )(1 - \\eta)\\\\\n",
        "&N_4(\\xi ,\\eta) = N^{b}_4(\\xi ,\\eta) - \\frac{1}{2} N_7(\\xi ,\\eta)\\\\\n",
        "&N_5(\\xi ,\\eta) = \\frac{1}{2}(1 + \\eta) l^3_4(\\xi) = \\frac{27}{32}(1 + \\eta)(1 - \\xi) (\\xi + 1/3) (\\xi + 1) \\\\\n",
        "&N_6(\\xi ,\\eta) = \\frac{1}{2}(1 + \\eta) l^3_3(\\xi) = \\frac{27}{32}(1 + \\eta)(1 + \\xi) (\\xi - 1/3) (\\xi - 1)\\\\\n",
        "&N_7(\\xi ,\\eta) = \\frac{1}{2}(1 + \\xi) l^2_3(\\eta) = \\frac{1}{2}(1 + \\xi)(1 + \\eta)(1 - \\eta)\n",
        "\\end{split}\n",
        "\\end{equation}\n"
      ]
    },
    {
      "cell_type": "markdown",
      "metadata": {
        "id": "D2I1u4W7v0Tb"
      },
      "source": [
        "![cap6_1_b.PNG](data:image/png;base64,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)\n",
        "\n",
        "![elemento_linear_cubico.PNG](data:image/png;base64,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)"
      ]
    },
    {
      "cell_type": "code",
      "metadata": {
        "id": "UdrkZ3FLv4MZ"
      },
      "source": [
        "no1 = (   1, 1)\n",
        "no2 = (  -1, 1)\n",
        "no3 = (  -1,-1)\n",
        "no4 = (   1,-1)\n",
        "no5 = ( 1/3, 1)\n",
        "no6 = (-1/3, 1)\n",
        "no7 = (   1, 0)\n",
        "\n",
        "\n",
        "nos = (no1, no2, no3, no4, no5, no6, no7)"
      ],
      "execution_count": null,
      "outputs": []
    },
    {
      "cell_type": "code",
      "metadata": {
        "id": "Pw8ZBvNhz3BR"
      },
      "source": [
        "def N5(no):\n",
        "  e, n = no\n",
        "  return (27/32)*(1+n)*(1-e)*(e+1/3)*(e+1)\n",
        "\n",
        "def N6(no):\n",
        "  e, n = no\n",
        "  return (27/32)*(1+n)*(1+e)*(e-1/3)*(e-1)\n",
        "\n",
        "def N7(no):\n",
        "  e, n = no\n",
        "  return (1/2)*(1+e)*(1+n)*(1-n)\n",
        "\n",
        "\n",
        "def N1(no):\n",
        "  return N1b(no) - 1/2 * N7(no) - 1/3 * N6(no) - 2/3 * N5(no)\n",
        "\n",
        "def N2(no):\n",
        "  return N2b(no) - 2/3 * N6(no) - 1/3 * N5(no)\n",
        "\n",
        "def N3(no):\n",
        "  return N3b(no)\n",
        "\n",
        "def N4(no):\n",
        "  return N4b(no) - 1/2 * N7(no)"
      ],
      "execution_count": null,
      "outputs": []
    },
    {
      "cell_type": "code",
      "metadata": {
        "colab": {
          "base_uri": "https://localhost:8080/"
        },
        "id": "9gNx9ICa0Q1C",
        "outputId": "0e539d66-468d-45a2-b1b9-a96e8d6f790a"
      },
      "source": [
        "# Checando o No1\n",
        "print(\"N1\")\n",
        "for i, no in enumerate(nos):\n",
        "  print(f\"no{i+1} -> N1 = {N1(no)}\")\n",
        "\n",
        "# Checando o No2\n",
        "print(\"\\nN2\")\n",
        "for i, no in enumerate(nos):\n",
        "  print(f\"no{i+1} -> N2 = {N2(no)}\")\n",
        "\n",
        "# Checando o No3\n",
        "print(\"\\nN3\")\n",
        "for i, no in enumerate(nos):\n",
        "  print(f\"no{i+1} -> N3 = {N3(no)}\")\n",
        "\n",
        "# Checando o No4\n",
        "print(\"\\nN4\")\n",
        "for i, no in enumerate(nos):\n",
        "  print(f\"no{i+1} -> N4 = {N4(no)}\")\n",
        "\n",
        "# Checando o No5\n",
        "print(\"\\nN5\")\n",
        "for i, no in enumerate(nos):\n",
        "  print(f\"no{i+1} -> N5 = {N5(no)}\")\n",
        "\n",
        "# Checando o No5\n",
        "print(\"\\nN6\")\n",
        "for i, no in enumerate(nos):\n",
        "  print(f\"no{i+1} -> N6 = {N6(no)}\")\n",
        "\n",
        "# Checando o No5\n",
        "print(\"\\nN7\")\n",
        "for i, no in enumerate(nos):\n",
        "  print(f\"no{i+1} -> N7 = {N7(no)}\")"
      ],
      "execution_count": null,
      "outputs": [
        {
          "output_type": "stream",
          "text": [
            "N1\n",
            "no1 -> N1 = 1.0\n",
            "no2 -> N1 = 0.0\n",
            "no3 -> N1 = 0.0\n",
            "no4 -> N1 = 0.0\n",
            "no5 -> N1 = 0.0\n",
            "no6 -> N1 = 5.551115123125783e-17\n",
            "no7 -> N1 = 0.0\n",
            "\n",
            "N2\n",
            "no1 -> N2 = 0.0\n",
            "no2 -> N2 = 1.0\n",
            "no3 -> N2 = 0.0\n",
            "no4 -> N2 = 0.0\n",
            "no5 -> N2 = 5.551115123125783e-17\n",
            "no6 -> N2 = 0.0\n",
            "no7 -> N2 = 0.0\n",
            "\n",
            "N3\n",
            "no1 -> N3 = 0.0\n",
            "no2 -> N3 = 0.0\n",
            "no3 -> N3 = 1.0\n",
            "no4 -> N3 = 0.0\n",
            "no5 -> N3 = 0.0\n",
            "no6 -> N3 = 0.0\n",
            "no7 -> N3 = 0.0\n",
            "\n",
            "N4\n",
            "no1 -> N4 = 0.0\n",
            "no2 -> N4 = 0.0\n",
            "no3 -> N4 = 0.0\n",
            "no4 -> N4 = 1.0\n",
            "no5 -> N4 = 0.0\n",
            "no6 -> N4 = 0.0\n",
            "no7 -> N4 = 0.0\n",
            "\n",
            "N5\n",
            "no1 -> N5 = 0.0\n",
            "no2 -> N5 = -0.0\n",
            "no3 -> N5 = -0.0\n",
            "no4 -> N5 = 0.0\n",
            "no5 -> N5 = 1.0\n",
            "no6 -> N5 = 0.0\n",
            "no7 -> N5 = 0.0\n",
            "\n",
            "N6\n",
            "no1 -> N6 = 0.0\n",
            "no2 -> N6 = 0.0\n",
            "no3 -> N6 = 0.0\n",
            "no4 -> N6 = 0.0\n",
            "no5 -> N6 = -0.0\n",
            "no6 -> N6 = 1.0\n",
            "no7 -> N6 = 0.0\n",
            "\n",
            "N7\n",
            "no1 -> N7 = 0.0\n",
            "no2 -> N7 = 0.0\n",
            "no3 -> N7 = 0.0\n",
            "no4 -> N7 = 0.0\n",
            "no5 -> N7 = 0.0\n",
            "no6 -> N7 = 0.0\n",
            "no7 -> N7 = 1.0\n"
          ],
          "name": "stdout"
        }
      ]
    }
  ]
}